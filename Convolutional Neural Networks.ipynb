{
 "cells": [
  {
   "cell_type": "markdown",
   "metadata": {},
   "source": [
    "<div class=\"alert alert-block alert-info\" style=\"margin-top: 20px\" color=red>\n",
    "<font size = 3 color=blue>\n",
    "  \n",
    "Convolutional Neural Networks\n",
    "</font>\n",
    "</color>\n",
    "</div>"
   ]
  },
  {
   "cell_type": "markdown",
   "metadata": {},
   "source": [
    "The goals are to learn how to use the Keras library to:\n",
    "\n",
    " 1. Build convolutional Neural Networks.\n",
    " 3. Build Convolutional Neural Network with One Convolutional and Pooling Layers.\n",
    " 4. Build Convolutional Neural Network with Two Convolutional and Pooling Layers.\n",
    " "
   ]
  },
  {
   "cell_type": "markdown",
   "metadata": {},
   "source": [
    "## 2_Source_Data\n",
    "* MNIST dataset in Keras\n",
    "* Dataset Description: https://arxiv.org/abs/1708.07747"
   ]
  },
  {
   "cell_type": "code",
   "execution_count": 1,
   "metadata": {},
   "outputs": [],
   "source": [
    "import numpy as np\n",
    "import keras\n",
    "from tensorflow.keras.models import Sequential\n",
    "from keras.layers import Dense, Flatten\n",
    "from tensorflow.keras.utils import to_categorical\n",
    "from keras.losses import categorical_crossentropy\n",
    "from keras.utils import np_utils"
   ]
  },
  {
   "cell_type": "code",
   "execution_count": 2,
   "metadata": {},
   "outputs": [],
   "source": [
    "from keras.layers.convolutional import Conv2D # to add convolutional layers\n",
    "from keras.layers.convolutional import MaxPooling2D, AveragePooling2D  # to add pooling layers\n",
    "from keras.layers import Dense, Flatten # to Dense and flatten data for fully connected layers"
   ]
  },
  {
   "cell_type": "code",
   "execution_count": 3,
   "metadata": {},
   "outputs": [],
   "source": [
    "from keras.datasets import mnist # import data\n",
    "(X_train, y_train), (X_test, y_test) = mnist.load_data() # load data"
   ]
  },
  {
   "cell_type": "code",
   "execution_count": 4,
   "metadata": {},
   "outputs": [
    {
     "data": {
      "text/plain": [
       "10"
      ]
     },
     "execution_count": 4,
     "metadata": {},
     "output_type": "execute_result"
    }
   ],
   "source": [
    "y_test_shape = to_categorical(y_test)\n",
    "num_classes  = y_test_shape.shape[1] # number of categories\n",
    "num_classes"
   ]
  },
  {
   "cell_type": "code",
   "execution_count": 5,
   "metadata": {},
   "outputs": [
    {
     "name": "stdout",
     "output_type": "stream",
     "text": [
      "5 => [0. 0. 0. 0. 0. 1. 0. 0. 0. 0.]\n",
      "[0. 0. 0. 0. 0. 0. 0. 1. 0. 0.]\n"
     ]
    }
   ],
   "source": [
    "num_classes = len(np.unique(y_train))\n",
    "print(y_train[0], end=' => ')\n",
    "y_train = keras.utils.np_utils.to_categorical(y_train, 10)\n",
    "y_test = keras.utils.np_utils.to_categorical(y_test, 10)\n",
    "print(y_train[0])\n",
    "print(y_test[0])"
   ]
  },
  {
   "cell_type": "markdown",
   "metadata": {},
   "source": [
    "<a id='item42'></a>\n"
   ]
  },
  {
   "cell_type": "code",
   "execution_count": 6,
   "metadata": {},
   "outputs": [
    {
     "data": {
      "text/plain": [
       "60000"
      ]
     },
     "execution_count": 6,
     "metadata": {},
     "output_type": "execute_result"
    }
   ],
   "source": [
    "y_train.shape[0] # number of categories"
   ]
  },
  {
   "cell_type": "code",
   "execution_count": 7,
   "metadata": {},
   "outputs": [
    {
     "data": {
      "text/plain": [
       "10000"
      ]
     },
     "execution_count": 7,
     "metadata": {},
     "output_type": "execute_result"
    }
   ],
   "source": [
    "y_test.shape[0] # number of categories"
   ]
  },
  {
   "cell_type": "code",
   "execution_count": 8,
   "metadata": {},
   "outputs": [],
   "source": [
    "X_train = X_train.reshape(X_train.shape[0], 28, 28, 1).astype('float32')\n",
    "X_test = X_test.reshape(X_test.shape[0], 28, 28, 1).astype('float32')"
   ]
  },
  {
   "cell_type": "code",
   "execution_count": 9,
   "metadata": {},
   "outputs": [],
   "source": [
    "X_train = X_train / 255 # normalize training data\n",
    "X_test = X_test / 255 # normalize test data"
   ]
  },
  {
   "cell_type": "code",
   "execution_count": 10,
   "metadata": {},
   "outputs": [],
   "source": [
    "def convolutional_model():\n",
    "    model = Sequential()\n",
    "    model.add(Conv2D(16, (5, 5), strides=(1, 1), activation='relu', input_shape=(28, 28, 1)))\n",
    "    model.add(MaxPooling2D(pool_size=(2, 2), strides=(2, 2)))\n",
    "    \n",
    "    model.add(Flatten())\n",
    "    model.add(Dense(100, activation='relu'))\n",
    "    model.add(Dense(num_classes, activation='softmax'))\n",
    "    \n",
    "    model.compile(optimizer='adam', loss='categorical_crossentropy',  metrics=['accuracy'])\n",
    "    return model"
   ]
  },
  {
   "cell_type": "code",
   "execution_count": 11,
   "metadata": {},
   "outputs": [
    {
     "name": "stdout",
     "output_type": "stream",
     "text": [
      "Epoch 1/10\n",
      "300/300 - 7s - loss: 0.2937 - accuracy: 0.9153 - val_loss: 0.1064 - val_accuracy: 0.9690\n",
      "Epoch 2/10\n",
      "300/300 - 6s - loss: 0.0878 - accuracy: 0.9746 - val_loss: 0.0640 - val_accuracy: 0.9798\n",
      "Epoch 3/10\n",
      "300/300 - 6s - loss: 0.0591 - accuracy: 0.9826 - val_loss: 0.0460 - val_accuracy: 0.9839\n",
      "Epoch 4/10\n",
      "300/300 - 6s - loss: 0.0471 - accuracy: 0.9852 - val_loss: 0.0444 - val_accuracy: 0.9845\n",
      "Epoch 5/10\n",
      "300/300 - 6s - loss: 0.0375 - accuracy: 0.9886 - val_loss: 0.0439 - val_accuracy: 0.9850\n",
      "Epoch 6/10\n",
      "300/300 - 6s - loss: 0.0321 - accuracy: 0.9899 - val_loss: 0.0419 - val_accuracy: 0.9864\n",
      "Epoch 7/10\n",
      "300/300 - 6s - loss: 0.0259 - accuracy: 0.9926 - val_loss: 0.0426 - val_accuracy: 0.9855\n",
      "Epoch 8/10\n",
      "300/300 - 6s - loss: 0.0231 - accuracy: 0.9930 - val_loss: 0.0383 - val_accuracy: 0.9876\n",
      "Epoch 9/10\n",
      "300/300 - 7s - loss: 0.0183 - accuracy: 0.9949 - val_loss: 0.0471 - val_accuracy: 0.9853\n",
      "Epoch 10/10\n",
      "300/300 - 6s - loss: 0.0157 - accuracy: 0.9953 - val_loss: 0.0406 - val_accuracy: 0.9862\n",
      "Accuracy: 0.9861999750137329 \n",
      " Error: 1.380002498626709\n"
     ]
    }
   ],
   "source": [
    "model = convolutional_model()\n",
    "\n",
    "model.fit(X_train, y_train, validation_data=(X_test, y_test), epochs=10, batch_size=200, verbose=2)\n",
    "\n",
    "scores = model.evaluate(X_test, y_test, verbose=0)\n",
    "print(\"Accuracy: {} \\n Error: {}\".format(scores[1], 100-scores[1]*100))"
   ]
  },
  {
   "cell_type": "markdown",
   "metadata": {},
   "source": [
    "Convolutional Layer with two sets of Convolutional and Pooling layers\n"
   ]
  },
  {
   "cell_type": "code",
   "execution_count": 12,
   "metadata": {},
   "outputs": [],
   "source": [
    "def convolutional_model():\n",
    "    model = Sequential()\n",
    "    model.add(Conv2D(16, (5, 5), activation='relu', input_shape=(28, 28, 1)))\n",
    "    model.add(MaxPooling2D(pool_size=(2, 2), strides=(2, 2)))\n",
    "    \n",
    "    model.add(Conv2D(8, (2, 2), activation='relu'))\n",
    "    model.add(MaxPooling2D(pool_size=(2, 2), strides=(2, 2)))\n",
    "    \n",
    "    model.add(Flatten())\n",
    "    model.add(Dense(100, activation='relu'))\n",
    "    model.add(Dense(num_classes, activation='softmax'))\n",
    "    \n",
    "    model.compile(optimizer='adam', loss='categorical_crossentropy',  metrics=['accuracy'])\n",
    "    return model"
   ]
  },
  {
   "cell_type": "code",
   "execution_count": 13,
   "metadata": {},
   "outputs": [
    {
     "name": "stdout",
     "output_type": "stream",
     "text": [
      "Epoch 1/10\n",
      "300/300 - 7s - loss: 0.4875 - accuracy: 0.8586 - val_loss: 0.1586 - val_accuracy: 0.9540\n",
      "Epoch 2/10\n",
      "300/300 - 7s - loss: 0.1218 - accuracy: 0.9632 - val_loss: 0.0860 - val_accuracy: 0.9740\n",
      "Epoch 3/10\n",
      "300/300 - 7s - loss: 0.0877 - accuracy: 0.9730 - val_loss: 0.0727 - val_accuracy: 0.9777\n",
      "Epoch 4/10\n",
      "300/300 - 7s - loss: 0.0689 - accuracy: 0.9790 - val_loss: 0.0578 - val_accuracy: 0.9817\n",
      "Epoch 5/10\n",
      "300/300 - 7s - loss: 0.0590 - accuracy: 0.9814 - val_loss: 0.0490 - val_accuracy: 0.9845\n",
      "Epoch 6/10\n",
      "300/300 - 7s - loss: 0.0519 - accuracy: 0.9836 - val_loss: 0.0470 - val_accuracy: 0.9847\n",
      "Epoch 7/10\n",
      "300/300 - 7s - loss: 0.0469 - accuracy: 0.9853 - val_loss: 0.0437 - val_accuracy: 0.9864\n",
      "Epoch 8/10\n",
      "300/300 - 7s - loss: 0.0420 - accuracy: 0.9866 - val_loss: 0.0342 - val_accuracy: 0.9879\n",
      "Epoch 9/10\n",
      "300/300 - 7s - loss: 0.0367 - accuracy: 0.9887 - val_loss: 0.0358 - val_accuracy: 0.9885\n",
      "Epoch 10/10\n",
      "300/300 - 7s - loss: 0.0342 - accuracy: 0.9892 - val_loss: 0.0366 - val_accuracy: 0.9872\n",
      "Accuracy: 0.9872000217437744 \n",
      " Error: 1.2799978256225586\n"
     ]
    }
   ],
   "source": [
    "model = convolutional_model()\n",
    "\n",
    "model.fit(X_train, y_train, validation_data=(X_test, y_test), epochs=10, batch_size=200, verbose=2)\n",
    "\n",
    "scores = model.evaluate(X_test, y_test, verbose=0)\n",
    "print(\"Accuracy: {} \\n Error: {}\".format(scores[1], 100-scores[1]*100))"
   ]
  }
 ],
 "metadata": {
  "kernelspec": {
   "display_name": "Python 3",
   "language": "python",
   "name": "python3"
  },
  "language_info": {
   "codemirror_mode": {
    "name": "ipython",
    "version": 3
   },
   "file_extension": ".py",
   "mimetype": "text/x-python",
   "name": "python",
   "nbconvert_exporter": "python",
   "pygments_lexer": "ipython3",
   "version": "3.8.5"
  }
 },
 "nbformat": 4,
 "nbformat_minor": 4
}
