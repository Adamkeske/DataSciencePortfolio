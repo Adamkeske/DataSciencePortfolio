{
 "cells": [
  {
   "cell_type": "markdown",
   "metadata": {},
   "source": [
    "Apply Convolutional Neural Network model to CIFAR-10 dataset to identify different set of images.\n"
   ]
  },
  {
   "cell_type": "markdown",
   "metadata": {},
   "source": [
    "Source Data\n",
    "* CIFAR-10 dataset in Keras\n",
    "* Dataset Description: https://www.cs.toronto.edu/~kriz/cifar.html\n"
   ]
  },
  {
   "cell_type": "code",
   "execution_count": 1,
   "metadata": {},
   "outputs": [],
   "source": [
    "import numpy as np\n",
    "import keras\n",
    "from keras.models import Sequential\n",
    "from keras.layers import Dense, Flatten\n",
    "from tensorflow.keras.utils import to_categorical\n",
    "from keras.losses import categorical_crossentropy\n",
    "from keras.utils import np_utils"
   ]
  },
  {
   "cell_type": "code",
   "execution_count": 2,
   "metadata": {},
   "outputs": [],
   "source": [
    "from keras.layers.convolutional import Conv2D \n",
    "from keras.layers.convolutional import MaxPooling2D, AveragePooling2D \n",
    "from keras.layers import Dense, Flatten "
   ]
  },
  {
   "cell_type": "code",
   "execution_count": 3,
   "metadata": {},
   "outputs": [],
   "source": [
    "from keras.datasets import cifar10\n",
    "(X_train, y_train), (X_test, y_test) = cifar10.load_data()"
   ]
  },
  {
   "cell_type": "code",
   "execution_count": 4,
   "metadata": {},
   "outputs": [
    {
     "data": {
      "text/plain": [
       "10"
      ]
     },
     "execution_count": 4,
     "metadata": {},
     "output_type": "execute_result"
    }
   ],
   "source": [
    "y_test_shape = to_categorical(y_test)\n",
    "num_classes  = y_test_shape.shape[1]\n",
    "num_classes"
   ]
  },
  {
   "cell_type": "code",
   "execution_count": 5,
   "metadata": {},
   "outputs": [
    {
     "name": "stdout",
     "output_type": "stream",
     "text": [
      "(32, 32, 3)\n"
     ]
    }
   ],
   "source": [
    "X_train = X_train.astype(np.float32) / 255  \n",
    "X_test = X_test.astype(np.float32) / 255 \n",
    "\n",
    "input_shape = (32, 32, 3)\n",
    "\n",
    "print(input_shape)"
   ]
  },
  {
   "cell_type": "code",
   "execution_count": 6,
   "metadata": {},
   "outputs": [
    {
     "name": "stdout",
     "output_type": "stream",
     "text": [
      "[6] => [0. 0. 0. 0. 0. 0. 1. 0. 0. 0.]\n",
      "[0. 0. 0. 1. 0. 0. 0. 0. 0. 0.]\n"
     ]
    }
   ],
   "source": [
    "num_classes = len(np.unique(y_train))\n",
    "print(y_train[0], end=' => ')\n",
    "y_train = keras.utils.np_utils.to_categorical(y_train, 10)\n",
    "y_test = keras.utils.np_utils.to_categorical(y_test, 10)\n",
    "print(y_train[0])\n",
    "print(y_test[0])"
   ]
  },
  {
   "cell_type": "code",
   "execution_count": 7,
   "metadata": {},
   "outputs": [
    {
     "data": {
      "text/plain": [
       "50000"
      ]
     },
     "execution_count": 7,
     "metadata": {},
     "output_type": "execute_result"
    }
   ],
   "source": [
    "y_train.shape[0]"
   ]
  },
  {
   "cell_type": "code",
   "execution_count": 8,
   "metadata": {},
   "outputs": [],
   "source": [
    "def convolutional_model():\n",
    "    \n",
    "    model = Sequential()\n",
    "    model.add(Conv2D(20, (5, 5), strides=(1, 1), activation='relu', input_shape=(32, 32, 3)))\n",
    "    model.add(MaxPooling2D(pool_size=(5, 5), strides=(5, 5)))\n",
    "    \n",
    "    model.add(Flatten())\n",
    "    model.add(Dense(100, activation='relu'))\n",
    "    model.add(Dense(num_classes, activation='softmax'))\n",
    "    model.compile(optimizer='adam', loss='categorical_crossentropy',  metrics=['accuracy'])\n",
    "    return model"
   ]
  },
  {
   "cell_type": "code",
   "execution_count": 9,
   "metadata": {},
   "outputs": [
    {
     "name": "stdout",
     "output_type": "stream",
     "text": [
      "Epoch 1/10\n",
      "250/250 - 19s - loss: 1.7632 - accuracy: 0.3705 - val_loss: 1.5358 - val_accuracy: 0.4622\n",
      "Epoch 2/10\n",
      "250/250 - 7s - loss: 1.4476 - accuracy: 0.4914 - val_loss: 1.4014 - val_accuracy: 0.5001\n",
      "Epoch 3/10\n",
      "250/250 - 7s - loss: 1.3380 - accuracy: 0.5313 - val_loss: 1.3038 - val_accuracy: 0.5402\n",
      "Epoch 4/10\n",
      "250/250 - 8s - loss: 1.2653 - accuracy: 0.5570 - val_loss: 1.2766 - val_accuracy: 0.5614\n",
      "Epoch 5/10\n",
      "250/250 - 8s - loss: 1.2162 - accuracy: 0.5758 - val_loss: 1.2073 - val_accuracy: 0.5814\n",
      "Epoch 6/10\n",
      "250/250 - 8s - loss: 1.1736 - accuracy: 0.5905 - val_loss: 1.2036 - val_accuracy: 0.5847\n",
      "Epoch 7/10\n",
      "250/250 - 8s - loss: 1.1356 - accuracy: 0.6048 - val_loss: 1.1889 - val_accuracy: 0.5846\n",
      "Epoch 8/10\n",
      "250/250 - 9s - loss: 1.1142 - accuracy: 0.6135 - val_loss: 1.1085 - val_accuracy: 0.6167\n",
      "Epoch 9/10\n",
      "250/250 - 8s - loss: 1.0779 - accuracy: 0.6253 - val_loss: 1.1113 - val_accuracy: 0.6103\n",
      "Epoch 10/10\n",
      "250/250 - 8s - loss: 1.0556 - accuracy: 0.6314 - val_loss: 1.0876 - val_accuracy: 0.6274\n",
      "Accuracy: 0.6273999810218811 \n",
      " Error: 37.26000189781189\n"
     ]
    }
   ],
   "source": [
    "model = convolutional_model()\n",
    "model.fit(X_train, y_train, validation_data=(X_test, y_test), epochs=10, batch_size=200, verbose=2)\n",
    "scores = model.evaluate(X_test, y_test, verbose=0)\n",
    "print(\"Accuracy: {} \\n Error: {}\".format(scores[1], 100-scores[1]*100))"
   ]
  },
  {
   "cell_type": "code",
   "execution_count": 10,
   "metadata": {},
   "outputs": [],
   "source": [
    "def convolutional_model():\n",
    "    model = Sequential()\n",
    "    model.add(Conv2D(16, (5, 5), activation='relu', input_shape=(32, 32, 3)))\n",
    "    model.add(MaxPooling2D(pool_size=(2, 2), strides=(2, 2)))\n",
    "    \n",
    "    model.add(Conv2D(8, (2, 2), activation='relu'))\n",
    "    model.add(MaxPooling2D(pool_size=(2, 2), strides=(2, 2)))\n",
    "    \n",
    "    model.add(Flatten())\n",
    "    model.add(Dense(100, activation='relu'))\n",
    "    model.add(Dense(num_classes, activation='softmax'))\n",
    "    \n",
    "    model.compile(optimizer='adam', loss='categorical_crossentropy',  metrics=['accuracy'])\n",
    "    return model"
   ]
  },
  {
   "cell_type": "code",
   "execution_count": 11,
   "metadata": {},
   "outputs": [
    {
     "name": "stdout",
     "output_type": "stream",
     "text": [
      "Epoch 1/10\n",
      "250/250 - 13s - loss: 1.8395 - accuracy: 0.3323 - val_loss: 1.6299 - val_accuracy: 0.4124\n",
      "Epoch 2/10\n",
      "250/250 - 10s - loss: 1.5431 - accuracy: 0.4481 - val_loss: 1.5043 - val_accuracy: 0.4640\n",
      "Epoch 3/10\n",
      "250/250 - 10s - loss: 1.4456 - accuracy: 0.4824 - val_loss: 1.4144 - val_accuracy: 0.4942\n",
      "Epoch 4/10\n",
      "250/250 - 10s - loss: 1.3689 - accuracy: 0.5117 - val_loss: 1.3725 - val_accuracy: 0.5117\n",
      "Epoch 5/10\n",
      "250/250 - 10s - loss: 1.3196 - accuracy: 0.5329 - val_loss: 1.2980 - val_accuracy: 0.5410\n",
      "Epoch 6/10\n",
      "250/250 - 10s - loss: 1.2772 - accuracy: 0.5498 - val_loss: 1.2811 - val_accuracy: 0.5431\n",
      "Epoch 7/10\n",
      "250/250 - 10s - loss: 1.2494 - accuracy: 0.5570 - val_loss: 1.2798 - val_accuracy: 0.5524\n",
      "Epoch 8/10\n",
      "250/250 - 10s - loss: 1.2157 - accuracy: 0.5712 - val_loss: 1.2277 - val_accuracy: 0.5698\n",
      "Epoch 9/10\n",
      "250/250 - 10s - loss: 1.1881 - accuracy: 0.5834 - val_loss: 1.2731 - val_accuracy: 0.5463\n",
      "Epoch 10/10\n",
      "250/250 - 10s - loss: 1.1595 - accuracy: 0.5915 - val_loss: 1.2035 - val_accuracy: 0.5795\n",
      "Accuracy: 0.5795000195503235 \n",
      " Error: 42.04999804496765\n"
     ]
    }
   ],
   "source": [
    "model = convolutional_model()\n",
    "\n",
    "model.fit(X_train, y_train, validation_data=(X_test, y_test), epochs=10, batch_size=200, verbose=2)\n",
    "\n",
    "scores = model.evaluate(X_test, y_test, verbose=0)\n",
    "print(\"Accuracy: {} \\n Error: {}\".format(scores[1], 100-scores[1]*100))"
   ]
  }
 ],
 "metadata": {
  "kernelspec": {
   "display_name": "Python 3",
   "language": "python",
   "name": "python3"
  },
  "language_info": {
   "codemirror_mode": {
    "name": "ipython",
    "version": 3
   },
   "file_extension": ".py",
   "mimetype": "text/x-python",
   "name": "python",
   "nbconvert_exporter": "python",
   "pygments_lexer": "ipython3",
   "version": "3.8.5"
  }
 },
 "nbformat": 4,
 "nbformat_minor": 4
}
