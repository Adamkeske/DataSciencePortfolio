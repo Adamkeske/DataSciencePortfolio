{
 "cells": [
  {
   "cell_type": "markdown",
   "metadata": {},
   "source": [
    "## Table of Contents\n",
    "\n",
    "<div class=\"alert alert-block alert-info\" style=\"margin-top: 20px\" color=red>\n",
    "<font size = 3 color=blue>\n",
    "  \n",
    "# Python Lab 4: Convolutional Neural Networks\n",
    "</font>\n",
    "</color>\n",
    "</div>"
   ]
  },
  {
   "cell_type": "markdown",
   "metadata": {},
   "source": [
    "<div class=\"alert alert-block alert-info\" style=\"margin-top: 20px\" color=red>\n",
    "<font size = 5 color=blue> \n",
    "# Student Name:\n",
    "</font>\n",
    "</color>\n",
    "</div>"
   ]
  },
  {
   "cell_type": "markdown",
   "metadata": {},
   "source": [
    "## Table of Contents\n",
    "\n",
    "<div class=\"alert alert-block alert-info\" style=\"margin-top: 20px\" color=red>\n",
    "\n",
    "<font size = 3 color=red>\n",
    "  \n",
    "1. [Goal](#1_Goal)\n",
    "2. [Source_Data](#2_Source_Data)\n",
    "3. <a href=\"#item41\">Import Keras Packages and Dataset</a>   \n",
    "4. <a href=\"#item42\">Convolutional Neural Network with One Convolutional and Pooling Layers</a>  \n",
    "5. <a href=\"#item43\">Convolutional Neural Network with Two Convolutional and Pooling Layers</a>  \n",
    "6. [Convolutional Neural Network with LeNet5](#6_Convolutional_Neural_Network_with_LeNet5)\n",
    "7. [Student Assignment](#7_Student_Assignment)\n",
    "</font>\n",
    "</color>\n",
    "</div>\n"
   ]
  },
  {
   "cell_type": "markdown",
   "metadata": {},
   "source": [
    "## 1_Goal\n",
    "\n",
    "The goals are to learn how to use the Keras library to:\n",
    "\n",
    " 1. Build convolutional Neural Networks.\n",
    " 3. Build Convolutional Neural Network with One Convolutional and Pooling Layers.\n",
    " 4. Build Convolutional Neural Network with Two Convolutional and Pooling Layers.\n",
    " 2. Build a LeNet5 Neural Network."
   ]
  },
  {
   "cell_type": "markdown",
   "metadata": {},
   "source": [
    "## 2_Source_Data\n",
    "* MNIST dataset in Keras\n",
    "* Dataset Description: https://arxiv.org/abs/1708.07747"
   ]
  },
  {
   "cell_type": "markdown",
   "metadata": {},
   "source": [
    "## 3. Import Keras Packages and Dataset\n"
   ]
  },
  {
   "cell_type": "markdown",
   "metadata": {
    "slideshow": {
     "slide_type": "slide"
    }
   },
   "source": [
    "Import the keras libraries and the packages that we would need to build a neural network.\n"
   ]
  },
  {
   "cell_type": "code",
   "execution_count": 1,
   "metadata": {},
   "outputs": [],
   "source": [
    "import numpy as np\n",
    "import keras\n",
    "from tensorflow.keras.models import Sequential\n",
    "from keras.layers import Dense, Flatten\n",
    "from tensorflow.keras.utils import to_categorical\n",
    "from keras.losses import categorical_crossentropy\n",
    "from keras.utils import np_utils"
   ]
  },
  {
   "cell_type": "markdown",
   "metadata": {},
   "source": [
    "When working with convolutional neural networks in particular, you will need additional packages.\n"
   ]
  },
  {
   "cell_type": "code",
   "execution_count": 2,
   "metadata": {},
   "outputs": [],
   "source": [
    "from keras.layers.convolutional import Conv2D # to add convolutional layers\n",
    "from keras.layers.convolutional import MaxPooling2D, AveragePooling2D  # to add pooling layers\n",
    "from keras.layers import Dense, Flatten # to Dense and flatten data for fully connected layers"
   ]
  },
  {
   "cell_type": "markdown",
   "metadata": {},
   "source": [
    "Import MNIST datasets from Keras\n"
   ]
  },
  {
   "cell_type": "code",
   "execution_count": 3,
   "metadata": {},
   "outputs": [],
   "source": [
    "from keras.datasets import mnist # import data\n",
    "(X_train, y_train), (X_test, y_test) = mnist.load_data() # load data"
   ]
  },
  {
   "cell_type": "markdown",
   "metadata": {},
   "source": [
    "Convert the reponse/target/independent variable into binary categories which is what Neural Network can understand and work on.\n"
   ]
  },
  {
   "cell_type": "code",
   "execution_count": 4,
   "metadata": {},
   "outputs": [
    {
     "data": {
      "text/plain": [
       "10"
      ]
     },
     "execution_count": 4,
     "metadata": {},
     "output_type": "execute_result"
    }
   ],
   "source": [
    "y_test_shape = to_categorical(y_test)\n",
    "num_classes  = y_test_shape.shape[1] # number of categories\n",
    "num_classes"
   ]
  },
  {
   "cell_type": "code",
   "execution_count": 8,
   "metadata": {},
   "outputs": [
    {
     "name": "stdout",
     "output_type": "stream",
     "text": [
      "5 => [0. 0. 0. 0. 0. 1. 0. 0. 0. 0.]\n",
      "[0. 0. 0. 0. 0. 0. 0. 1. 0. 0.]\n"
     ]
    }
   ],
   "source": [
    "num_classes = len(np.unique(y_train))\n",
    "print(y_train[0], end=' => ')\n",
    "y_train = keras.utils.np_utils.to_categorical(y_train, 10)\n",
    "y_test = keras.utils.np_utils.to_categorical(y_test, 10)\n",
    "print(y_train[0])\n",
    "print(y_test[0])"
   ]
  },
  {
   "cell_type": "markdown",
   "metadata": {},
   "source": [
    "<a id='item42'></a>\n"
   ]
  },
  {
   "cell_type": "code",
   "execution_count": 9,
   "metadata": {},
   "outputs": [
    {
     "data": {
      "text/plain": [
       "60000"
      ]
     },
     "execution_count": 9,
     "metadata": {},
     "output_type": "execute_result"
    }
   ],
   "source": [
    "y_train.shape[0] # number of categories"
   ]
  },
  {
   "cell_type": "code",
   "execution_count": 10,
   "metadata": {},
   "outputs": [
    {
     "data": {
      "text/plain": [
       "10000"
      ]
     },
     "execution_count": 10,
     "metadata": {},
     "output_type": "execute_result"
    }
   ],
   "source": [
    "y_test.shape[0] # number of categories"
   ]
  },
  {
   "cell_type": "markdown",
   "metadata": {},
   "source": [
    "## 4. Convolutional Layer with One set of Convolutional and Pooling layers\n"
   ]
  },
  {
   "cell_type": "code",
   "execution_count": 11,
   "metadata": {},
   "outputs": [],
   "source": [
    "# reshape to be [samples][pixels][width][height]\n",
    "X_train = X_train.reshape(X_train.shape[0], 28, 28, 1).astype('float32')\n",
    "X_test = X_test.reshape(X_test.shape[0], 28, 28, 1).astype('float32')"
   ]
  },
  {
   "cell_type": "markdown",
   "metadata": {},
   "source": [
    "Let's normalize the pixel values to be between 0 and 1\n"
   ]
  },
  {
   "cell_type": "code",
   "execution_count": 12,
   "metadata": {},
   "outputs": [],
   "source": [
    "X_train = X_train / 255 # normalize training data\n",
    "X_test = X_test / 255 # normalize test data"
   ]
  },
  {
   "cell_type": "markdown",
   "metadata": {},
   "source": [
    "Next, let's define a function that creates our model. Let's start with one set of convolutional and pooling layers.\n"
   ]
  },
  {
   "cell_type": "code",
   "execution_count": 13,
   "metadata": {},
   "outputs": [],
   "source": [
    "def convolutional_model():\n",
    "    \n",
    "    # create model\n",
    "    model = Sequential()\n",
    "    model.add(Conv2D(16, (5, 5), strides=(1, 1), activation='relu', input_shape=(28, 28, 1)))\n",
    "    model.add(MaxPooling2D(pool_size=(2, 2), strides=(2, 2)))\n",
    "    \n",
    "    model.add(Flatten())\n",
    "    model.add(Dense(100, activation='relu'))\n",
    "    model.add(Dense(num_classes, activation='softmax'))\n",
    "    \n",
    "    # compile model\n",
    "    model.compile(optimizer='adam', loss='categorical_crossentropy',  metrics=['accuracy'])\n",
    "    return model"
   ]
  },
  {
   "cell_type": "markdown",
   "metadata": {},
   "source": [
    "Finally, let's call the function to create the model, and then let's train it and evaluate it.\n"
   ]
  },
  {
   "cell_type": "code",
   "execution_count": 14,
   "metadata": {},
   "outputs": [
    {
     "name": "stdout",
     "output_type": "stream",
     "text": [
      "Epoch 1/10\n",
      "300/300 - 7s - loss: 0.2849 - accuracy: 0.9195 - val_loss: 0.0978 - val_accuracy: 0.9715\n",
      "Epoch 2/10\n",
      "300/300 - 6s - loss: 0.0815 - accuracy: 0.9764 - val_loss: 0.0626 - val_accuracy: 0.9801\n",
      "Epoch 3/10\n",
      "300/300 - 7s - loss: 0.0564 - accuracy: 0.9829 - val_loss: 0.0484 - val_accuracy: 0.9842\n",
      "Epoch 4/10\n",
      "300/300 - 7s - loss: 0.0443 - accuracy: 0.9869 - val_loss: 0.0416 - val_accuracy: 0.9855\n",
      "Epoch 5/10\n",
      "300/300 - 7s - loss: 0.0353 - accuracy: 0.9895 - val_loss: 0.0398 - val_accuracy: 0.9859\n",
      "Epoch 6/10\n",
      "300/300 - 6s - loss: 0.0290 - accuracy: 0.9910 - val_loss: 0.0358 - val_accuracy: 0.9882\n",
      "Epoch 7/10\n",
      "300/300 - 7s - loss: 0.0239 - accuracy: 0.9929 - val_loss: 0.0400 - val_accuracy: 0.9870\n",
      "Epoch 8/10\n",
      "300/300 - 7s - loss: 0.0196 - accuracy: 0.9943 - val_loss: 0.0345 - val_accuracy: 0.9890\n",
      "Epoch 9/10\n",
      "300/300 - 7s - loss: 0.0171 - accuracy: 0.9949 - val_loss: 0.0344 - val_accuracy: 0.9895\n",
      "Epoch 10/10\n",
      "300/300 - 7s - loss: 0.0136 - accuracy: 0.9962 - val_loss: 0.0356 - val_accuracy: 0.9884\n",
      "Accuracy: 0.9883999824523926 \n",
      " Error: 1.1600017547607422\n"
     ]
    }
   ],
   "source": [
    "# build the model\n",
    "model = convolutional_model()\n",
    "\n",
    "# fit the model\n",
    "model.fit(X_train, y_train, validation_data=(X_test, y_test), epochs=10, batch_size=200, verbose=2)\n",
    "\n",
    "# evaluate the model\n",
    "scores = model.evaluate(X_test, y_test, verbose=0)\n",
    "print(\"Accuracy: {} \\n Error: {}\".format(scores[1], 100-scores[1]*100))"
   ]
  },
  {
   "cell_type": "markdown",
   "metadata": {},
   "source": [
    "## 5. Convolutional Layer with two sets of Convolutional and Pooling layers\n"
   ]
  },
  {
   "cell_type": "markdown",
   "metadata": {},
   "source": [
    "Let's redefine our convolutional model so that it has two convolutional and pooling layers instead of just one layer of each.\n"
   ]
  },
  {
   "cell_type": "code",
   "execution_count": null,
   "metadata": {},
   "outputs": [],
   "source": [
    "def convolutional_model():\n",
    "    \n",
    "    # create model\n",
    "    model = Sequential()\n",
    "    model.add(Conv2D(16, (5, 5), activation='relu', input_shape=(28, 28, 1)))\n",
    "    model.add(MaxPooling2D(pool_size=(2, 2), strides=(2, 2)))\n",
    "    \n",
    "    model.add(Conv2D(8, (2, 2), activation='relu'))\n",
    "    model.add(MaxPooling2D(pool_size=(2, 2), strides=(2, 2)))\n",
    "    \n",
    "    model.add(Flatten())\n",
    "    model.add(Dense(100, activation='relu'))\n",
    "    model.add(Dense(num_classes, activation='softmax'))\n",
    "    \n",
    "    # Compile model\n",
    "    model.compile(optimizer='adam', loss='categorical_crossentropy',  metrics=['accuracy'])\n",
    "    return model"
   ]
  },
  {
   "cell_type": "markdown",
   "metadata": {},
   "source": [
    "Now, let's call the function to create our new convolutional neural network, and then let's train it and evaluate it.\n"
   ]
  },
  {
   "cell_type": "code",
   "execution_count": null,
   "metadata": {},
   "outputs": [],
   "source": [
    "# build the model\n",
    "model = convolutional_model()\n",
    "\n",
    "# fit the model\n",
    "model.fit(X_train, y_train, validation_data=(X_test, y_test), epochs=10, batch_size=200, verbose=2)\n",
    "\n",
    "# evaluate the model\n",
    "scores = model.evaluate(X_test, y_test, verbose=0)\n",
    "print(\"Accuracy: {} \\n Error: {}\".format(scores[1], 100-scores[1]*100))"
   ]
  },
  {
   "cell_type": "markdown",
   "metadata": {},
   "source": [
    "## 6_Convolutional_Neural_Network_with_LeNet5"
   ]
  },
  {
   "cell_type": "code",
   "execution_count": null,
   "metadata": {},
   "outputs": [],
   "source": [
    "lenet = Sequential()\n",
    "\n",
    "# Convolutional Layer C1\n",
    "lenet.add(Conv2D(6, kernel_size=(5, 5), activation='tanh', \n",
    "                 input_shape=input_shape, padding='same', name='C1'))\n",
    "\n",
    "# Pooling Layer S2\n",
    "lenet.add(AveragePooling2D(pool_size=(2, 2), name='S2'))\n",
    "\n",
    "# Convolutional Layer C3\n",
    "lenet.add(Conv2D(16, kernel_size=(5, 5), activation='tanh', name='C3'))\n",
    "\n",
    "# Pooling Layer S4\n",
    "lenet.add(AveragePooling2D(pool_size=(2, 2), name='S4'))\n",
    "\n",
    "# Fully Connected Convolutional Layer C5\n",
    "lenet.add(Conv2D(120, kernel_size=(5, 5), activation='tanh', name='C5'))\n",
    "\n",
    "# Fully Connected Layer FC6\n",
    "lenet.add(Flatten())\n",
    "lenet.add(Dense(84, activation='tanh', name='FC6'))\n",
    "\n",
    "#Output Layer (softmax activation)\n",
    "lenet.add(Dense(10, activation='softmax', name='OUTPUT'))"
   ]
  },
  {
   "cell_type": "code",
   "execution_count": null,
   "metadata": {},
   "outputs": [],
   "source": [
    "lenet.compile(loss=categorical_crossentropy, optimizer='SGD', metrics=['accuracy'])\n",
    "lenet.summary()"
   ]
  },
  {
   "cell_type": "code",
   "execution_count": null,
   "metadata": {},
   "outputs": [],
   "source": [
    "batch_size = 64\n",
    "epochs = 50\n",
    "history = lenet.fit(X_train, y_train,\n",
    "                      batch_size=batch_size,\n",
    "                      epochs=epochs,\n",
    "                      validation_data=(X_test, \n",
    "                                       y_test))"
   ]
  },
  {
   "cell_type": "markdown",
   "metadata": {},
   "source": [
    "# 7_Student_Assignment "
   ]
  },
  {
   "cell_type": "markdown",
   "metadata": {},
   "source": [
    "## Assignment Guidelines:\n",
    "  \n",
    "    1.\tRedefine convolutional model so that it has three convolutional and pooling layers.\n",
    "    2.\tCall the function to create a new convolutional Neural Network.\n",
    "    3.\tTrain and evaluate it.\n",
    "    4.\tMake a short conclusion(s)/recommendation(s)."
   ]
  },
  {
   "cell_type": "code",
   "execution_count": null,
   "metadata": {},
   "outputs": [],
   "source": []
  }
 ],
 "metadata": {
  "kernelspec": {
   "display_name": "Python 3",
   "language": "python",
   "name": "python3"
  },
  "language_info": {
   "codemirror_mode": {
    "name": "ipython",
    "version": 3
   },
   "file_extension": ".py",
   "mimetype": "text/x-python",
   "name": "python",
   "nbconvert_exporter": "python",
   "pygments_lexer": "ipython3",
   "version": "3.8.5"
  }
 },
 "nbformat": 4,
 "nbformat_minor": 4
}
